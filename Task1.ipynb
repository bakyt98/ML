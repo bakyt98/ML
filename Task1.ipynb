{
 "cells": [
  {
   "cell_type": "code",
   "execution_count": 50,
   "metadata": {},
   "outputs": [
    {
     "name": "stdout",
     "output_type": "stream",
     "text": [
      "6 4\n"
     ]
    }
   ],
   "source": [
    "import re\n",
    "import scipy.spatial\n",
    "import math\n",
    "f=open(\"C:/Users/user/Downloads/sentences.txt\", \"r\")\n",
    "n=0;\n",
    "data=f.readlines()\n",
    "for x in data:\n",
    "    x=x.lower()\n",
    "    temp= re.split('[^a-z]', x)\n",
    "    data[n] = list(filter(None, temp))\n",
    "    n+=1\n",
    "n=0\n",
    "index=dict()\n",
    "for sent in data:\n",
    "    for word in sent:\n",
    "        if word not in index:\n",
    "            index[word]=n\n",
    "            n+=1\n",
    "matrix = []\n",
    "for i in range(len(data)):\n",
    "    matrix.append([0 for x in range(len(index))])\n",
    "    for word in data[i]:\n",
    "        j=index[word]\n",
    "        matrix[i][j]+=1\n",
    "def cosineDistance(v1, v2):\n",
    "    sumxx=0\n",
    "    sumyy=0\n",
    "    sumxy=0\n",
    "    for i in range(len(v1)):\n",
    "        sumxx+= v1[i]*v1[i]\n",
    "        sumyy+=v2[i]*v2[i]\n",
    "        sumxy+=v1[i]*v2[i]\n",
    "    return 1-sumxy/math.sqrt(sumxx*sumyy)\n",
    "        \n",
    "d=list()\n",
    "for x in range(1, len(data)):\n",
    "    d_temp=cosineDistance(matrix[0], matrix[x])\n",
    "    d.append((x, d_temp))\n",
    "\n",
    "def takeSecond(elem):\n",
    "    return elem[1]\n",
    "\n",
    "d.sort(key=takeSecond)\n",
    "print(d[0][0], d[1][0])\n"
   ]
  },
  {
   "cell_type": "code",
   "execution_count": null,
   "metadata": {},
   "outputs": [],
   "source": []
  },
  {
   "cell_type": "code",
   "execution_count": null,
   "metadata": {},
   "outputs": [],
   "source": []
  }
 ],
 "metadata": {
  "kernelspec": {
   "display_name": "Python 3",
   "language": "python",
   "name": "python3"
  },
  "language_info": {
   "codemirror_mode": {
    "name": "ipython",
    "version": 3
   },
   "file_extension": ".py",
   "mimetype": "text/x-python",
   "name": "python",
   "nbconvert_exporter": "python",
   "pygments_lexer": "ipython3",
   "version": "3.6.5"
  }
 },
 "nbformat": 4,
 "nbformat_minor": 2
}
