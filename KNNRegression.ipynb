{
 "cells": [
  {
   "cell_type": "code",
   "execution_count": 94,
   "metadata": {},
   "outputs": [],
   "source": [
    "import numpy as np\n",
    "import pandas as pd\n",
    "from sklearn.datasets import load_iris\n",
    "from scipy.spatial import distance\n",
    "from sklearn.cross_validation import train_test_split"
   ]
  },
  {
   "cell_type": "code",
   "execution_count": 95,
   "metadata": {},
   "outputs": [
    {
     "data": {
      "text/plain": [
       "(150, 4)"
      ]
     },
     "execution_count": 95,
     "metadata": {},
     "output_type": "execute_result"
    }
   ],
   "source": [
    "\n",
    "df = load_iris()\n",
    "df.data.shape"
   ]
  },
  {
   "cell_type": "code",
   "execution_count": 96,
   "metadata": {},
   "outputs": [],
   "source": [
    "class KNNRegression(object):\n",
    "    def __init__(self, k):\n",
    "        self.k = k\n",
    "    \n",
    "    def fit(self, X,  y):\n",
    "        self.X = X\n",
    "        self.y = y\n",
    "    \n",
    "    def calculate(self, u):\n",
    "        distances = []\n",
    "        for i in range(len(self.X)):\n",
    "            distances.append(([y[i]], distance.euclidean(self.X[i], u)))\n",
    "        distances.sort(key=operator.itemgetter(1))\n",
    "        kNearest=[]\n",
    "        for i in range(self.k):\n",
    "            kNearest.append(distances[i][0])\n",
    "        result = 0\n",
    "        for element in kNearest:        \n",
    "            result += element[0]  \n",
    "        return result / self.k\n",
    "        \n",
    "    def predict(self, x_test):\n",
    "        y_pred = []\n",
    "        for u in x_test:\n",
    "            y_pred.append(self.calculate(u))\n",
    "        return y_pred\n",
    "                         \n"
   ]
  },
  {
   "cell_type": "code",
   "execution_count": 97,
   "metadata": {},
   "outputs": [],
   "source": [
    "x=df['data']\n",
    "y=df['target']\n",
    "x_train, x_test, y_train, y_test = train_test_split(x, y, test_size=0.33)"
   ]
  },
  {
   "cell_type": "code",
   "execution_count": 98,
   "metadata": {},
   "outputs": [
    {
     "name": "stdout",
     "output_type": "stream",
     "text": [
      "1 ) Predicted value: 1.6666666666666667 \n",
      "Real value: 2\n",
      "2 ) Predicted value: 1.5 \n",
      "Real value: 2\n",
      "3 ) Predicted value: 1.0 \n",
      "Real value: 1\n",
      "4 ) Predicted value: 1.1666666666666667 \n",
      "Real value: 1\n",
      "5 ) Predicted value: 1.8333333333333333 \n",
      "Real value: 2\n",
      "6 ) Predicted value: 0.0 \n",
      "Real value: 0\n",
      "7 ) Predicted value: 1.0 \n",
      "Real value: 1\n",
      "8 ) Predicted value: 2.0 \n",
      "Real value: 2\n",
      "9 ) Predicted value: 1.0 \n",
      "Real value: 1\n",
      "10 ) Predicted value: 0.0 \n",
      "Real value: 0\n",
      "11 ) Predicted value: 0.0 \n",
      "Real value: 0\n",
      "12 ) Predicted value: 0.0 \n",
      "Real value: 0\n",
      "13 ) Predicted value: 2.0 \n",
      "Real value: 2\n",
      "14 ) Predicted value: 1.8333333333333333 \n",
      "Real value: 1\n",
      "15 ) Predicted value: 2.0 \n",
      "Real value: 2\n",
      "16 ) Predicted value: 1.0 \n",
      "Real value: 1\n",
      "17 ) Predicted value: 1.0 \n",
      "Real value: 1\n",
      "18 ) Predicted value: 0.0 \n",
      "Real value: 0\n",
      "19 ) Predicted value: 0.0 \n",
      "Real value: 0\n",
      "20 ) Predicted value: 0.0 \n",
      "Real value: 0\n",
      "21 ) Predicted value: 0.0 \n",
      "Real value: 0\n",
      "22 ) Predicted value: 0.0 \n",
      "Real value: 0\n",
      "23 ) Predicted value: 1.0 \n",
      "Real value: 1\n",
      "24 ) Predicted value: 0.0 \n",
      "Real value: 0\n",
      "25 ) Predicted value: 1.8333333333333333 \n",
      "Real value: 2\n",
      "26 ) Predicted value: 2.0 \n",
      "Real value: 2\n",
      "27 ) Predicted value: 1.8333333333333333 \n",
      "Real value: 2\n",
      "28 ) Predicted value: 2.0 \n",
      "Real value: 2\n",
      "29 ) Predicted value: 1.0 \n",
      "Real value: 1\n",
      "30 ) Predicted value: 0.0 \n",
      "Real value: 0\n",
      "31 ) Predicted value: 0.0 \n",
      "Real value: 0\n",
      "32 ) Predicted value: 0.0 \n",
      "Real value: 0\n",
      "33 ) Predicted value: 1.1666666666666667 \n",
      "Real value: 2\n",
      "34 ) Predicted value: 2.0 \n",
      "Real value: 2\n",
      "35 ) Predicted value: 1.0 \n",
      "Real value: 1\n",
      "36 ) Predicted value: 0.0 \n",
      "Real value: 0\n",
      "37 ) Predicted value: 1.0 \n",
      "Real value: 1\n",
      "38 ) Predicted value: 2.0 \n",
      "Real value: 2\n",
      "39 ) Predicted value: 1.1666666666666667 \n",
      "Real value: 1\n",
      "40 ) Predicted value: 0.0 \n",
      "Real value: 0\n",
      "41 ) Predicted value: 1.8333333333333333 \n",
      "Real value: 2\n",
      "42 ) Predicted value: 0.0 \n",
      "Real value: 0\n",
      "43 ) Predicted value: 1.0 \n",
      "Real value: 1\n",
      "44 ) Predicted value: 2.0 \n",
      "Real value: 2\n",
      "45 ) Predicted value: 0.0 \n",
      "Real value: 0\n",
      "46 ) Predicted value: 1.0 \n",
      "Real value: 1\n",
      "47 ) Predicted value: 0.0 \n",
      "Real value: 0\n",
      "48 ) Predicted value: 1.8333333333333333 \n",
      "Real value: 2\n",
      "49 ) Predicted value: 2.0 \n",
      "Real value: 2\n",
      "50 ) Predicted value: 1.8333333333333333 \n",
      "Real value: 2\n"
     ]
    }
   ],
   "source": [
    "n_neighbors = 6\n",
    "neigh = KNNRegression(n_neighbors)\n",
    "neigh.fit(x, y)\n",
    "y_pred = neigh.predict(x_test)\n",
    "for i in range(len(y_pred)):\n",
    "    print(i+1, ') Predicted value:', y_pred[i], '\\nReal value:', y_test[i])"
   ]
  },
  {
   "cell_type": "code",
   "execution_count": null,
   "metadata": {},
   "outputs": [],
   "source": []
  }
 ],
 "metadata": {
  "kernelspec": {
   "display_name": "Python 3",
   "language": "python",
   "name": "python3"
  },
  "language_info": {
   "codemirror_mode": {
    "name": "ipython",
    "version": 3
   },
   "file_extension": ".py",
   "mimetype": "text/x-python",
   "name": "python",
   "nbconvert_exporter": "python",
   "pygments_lexer": "ipython3",
   "version": "3.6.5"
  }
 },
 "nbformat": 4,
 "nbformat_minor": 2
}
